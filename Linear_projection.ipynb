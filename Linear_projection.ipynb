{
 "cells": [
  {
   "cell_type": "markdown",
   "metadata": {},
   "source": [
    "# Linear projection"
   ]
  },
  {
   "cell_type": "code",
   "execution_count": 1,
   "metadata": {
    "collapsed": true
   },
   "outputs": [],
   "source": [
    "from __future__ import division\n",
    "import numpy as np\n",
    "from matplotlib import pyplot as pl\n",
    "import seaborn as sn\n",
    "sn.set_style('ticks')\n",
    "%matplotlib inline\n"
   ]
  },
  {
   "cell_type": "code",
   "execution_count": 2,
   "metadata": {
    "collapsed": false
   },
   "outputs": [
    {
     "data": {
      "text/plain": [
       "(0, 5)"
      ]
     },
     "execution_count": 2,
     "metadata": {},
     "output_type": "execute_result"
    },
    {
     "data": {
      "image/png": "[encoded data removed]",
      "text/plain": [
       "<matplotlib.figure.Figure at 0x102bd2290>"
      ]
     },
     "metadata": {},
     "output_type": "display_data"
    }
   ],
   "source": [
    "b = np.array([4,4])\n",
    "a = np.array([1,3])\n",
    "\n",
    "#To find the projection of a onto b we can do: (a*b/||a||^2)a\n",
    "a_onto_b = (np.dot(a,b)/np.linalg.norm(b)**2)*b\n",
    "\n",
    "pl.subplot(aspect='equal')\n",
    "pl.arrow(0,0,a[0],a[1],lw=2,head_width=0.1)\n",
    "pl.arrow(0,0,b[0],b[1],lw=2,head_width=0.1)\n",
    "pl.arrow(0,0,a_onto_b[0],a_onto_b[1],color='b',lw=3,head_width=0.1)\n",
    "\n",
    "sn.despine(offset=10)\n",
    "pl.xlim(0,5)\n",
    "pl.ylim(0,5)\n"
   ]
  },
  {
   "cell_type": "code",
   "execution_count": 5,
   "metadata": {
    "collapsed": false
   },
   "outputs": [
    {
     "name": "stdout",
     "output_type": "stream",
     "text": [
      "The length of this vector is 2.8284\n",
      "The length of this vector is 0.5000\n"
     ]
    }
   ],
   "source": [
    "# The length of this vector is:\n",
    "print 'The length of this vector is %.4f'%np.linalg.norm(a_onto_b)\n",
    "# This can also be found by: a*b/||b||:\n",
    "print 'The length of this vector is %.4f'%(np.dot(a,b)/np.linalg.norm(b)/np.linalg.norm(b))\n"
   ]
  },
  {
   "cell_type": "code",
   "execution_count": 66,
   "metadata": {
    "collapsed": false
   },
   "outputs": [
    {
     "data": {
      "text/plain": [
       "(-3, 5)"
      ]
     },
     "execution_count": 66,
     "metadata": {},
     "output_type": "execute_result"
    },
    {
     "data": {
      "image/png": "[encoded data removed]",
      "text/plain": [
       "<matplotlib.figure.Figure at 0x110730bd0>"
      ]
     },
     "metadata": {},
     "output_type": "display_data"
    }
   ],
   "source": [
    "b = np.array([2,4])\n",
    "a = np.array([-2,-1])\n",
    "\n",
    "#To find the projection of a onto b we can do: (a*b/||a||^2)a\n",
    "a_onto_b = (np.dot(a,b)/np.linalg.norm(b)**2)*b\n",
    "pl.subplot(aspect='equal')\n",
    "\n",
    "pl.arrow(0,0,a[0],a[1],lw=2,head_width=0.1)\n",
    "pl.arrow(0,0,b[0],b[1],lw=2,head_width=0.1)\n",
    "pl.arrow(0,0,a_onto_b[0],a_onto_b[1],color='b',lw=3,head_width=0.1)\n",
    "pl.axhline(0,lw=0.5,color='k')\n",
    "pl.axvline(0,lw=0.5,color='k')\n",
    "\n",
    "sn.despine(offset=10)\n",
    "pl.xlim(-3,5)\n",
    "pl.ylim(-3,5)\n"
   ]
  },
  {
   "cell_type": "code",
   "execution_count": 61,
   "metadata": {
    "collapsed": false
   },
   "outputs": [
    {
     "name": "stdout",
     "output_type": "stream",
     "text": [
      "The length of this vector is 1.7889\n",
      "The projected length of this vector is -1.7889\n"
     ]
    }
   ],
   "source": [
    "# The length of this vector is:\n",
    "print 'The length of this vector is %.4f'%np.linalg.norm(a_onto_b)\n",
    "# This can also be found by: a*b/||b||:\n",
    "print 'The projected length of this vector is %.4f'%(np.dot(a,b)/np.linalg.norm(b))\n"
   ]
  },
  {
   "cell_type": "markdown",
   "metadata": {},
   "source": [
    "# (for my experiment)\n",
    "Let's see what happens when we calculate the mean of this vector and see which direction our effects are in"
   ]
  },
  {
   "cell_type": "code",
   "execution_count": 95,
   "metadata": {
    "collapsed": false
   },
   "outputs": [],
   "source": [
    "\n",
    "def plot_function(a,b):\n",
    "    mean_ab = np.mean([a,b,],axis=0)\n",
    "\n",
    "    #To find the projection of a onto b we can do: (a*b/||a||^2)a\n",
    "    a_onto_b = (np.dot(a,b)/np.linalg.norm(b)**2)*b\n",
    "    pl.subplot(aspect='equal')\n",
    "    pl.axhline(0,lw=0.5,color='k')\n",
    "    pl.axvline(0,lw=0.5,color='k')\n",
    "\n",
    "    pl.arrow(0,0,a[0],a[1],lw=2,head_width=0.1,length_includes_head=True)\n",
    "    pl.arrow(0,0,b[0],b[1],lw=2,head_width=0.1,length_includes_head=True)\n",
    "    pl.text(b[0]+np.sign(b[0])/2,b[1]+np.sign(b[1])/2,'b')\n",
    "    pl.text(a[0]+np.sign(a[0])/2,a[1]+np.sign(a[1])/2,'a')\n",
    "\n",
    "    pl.arrow(0,0,mean_ab[0],mean_ab[1],color='r',lw=3,head_width=0.1,length_includes_head=True)\n",
    "\n",
    "    sn.despine(offset=10)\n",
    "    pl.xlim(-3,5)\n",
    "    pl.ylim(-3,5)\n",
    "\n",
    "    # project both vectors onto avg vector:\n",
    "\n",
    "    a_onto_mean = np.dot(a,mean_ab)/np.linalg.norm(mean_ab)\n",
    "    b_onto_mean = np.dot(b,mean_ab)/np.linalg.norm(mean_ab)\n",
    "\n",
    "    ecc_ami = ( [0]-b[0])/(a[0]+b[0])\n",
    "    size_ami = (a[1]-b[1])/(a[1]+b[1])\n",
    "    mean_ami = np.mean([ecc_ami,size_ami])\n",
    "    combined_ami = np.abs(a_onto_mean-b_onto_mean)/(a_onto_mean+b_onto_mean)\n",
    "\n",
    "    print 'ecc AMI: %.4f'%ecc_ami   \n",
    "    print 'size AMI: %.4f'%size_ami\n",
    "    print 'mean AMI: %.4f'%mean_ami\n",
    "    print 'combined AMI: %.4f'%combined_ami"
   ]
  },
  {
   "cell_type": "code",
   "execution_count": 96,
   "metadata": {
    "collapsed": false
   },
   "outputs": [
    {
     "name": "stdout",
     "output_type": "stream",
     "text": [
      "ecc AMI: -9.0000\n",
      "size AMI: -1.6667\n",
      "mean AMI: -5.3333\n",
      "combined AMI: 1.8649\n"
     ]
    },
    {
     "data": {
      "image/png": "[encoded data removed]",
      "text/plain": [
       "<matplotlib.figure.Figure at 0x110298150>"
      ]
     },
     "metadata": {},
     "output_type": "display_data"
    }
   ],
   "source": [
    "b = np.array([2.5,4])\n",
    "a = np.array([-2,-1])\n",
    "plot_function(a,b)"
   ]
  },
  {
   "cell_type": "code",
   "execution_count": 97,
   "metadata": {
    "collapsed": false
   },
   "outputs": [
    {
     "name": "stdout",
     "output_type": "stream",
     "text": [
      "ecc AMI: 0.3333\n",
      "size AMI: -0.3333\n",
      "mean AMI: 0.0000\n",
      "combined AMI: 0.0000\n"
     ]
    },
    {
     "data": {
      "image/png": "[encoded data removed]",
      "text/plain": [
       "<matplotlib.figure.Figure at 0x110e3ead0>"
      ]
     },
     "metadata": {},
     "output_type": "display_data"
    }
   ],
   "source": [
    "b = np.array([2,4])\n",
    "a = np.array([4,2])\n",
    "plot_function(a,b)"
   ]
  },
  {
   "cell_type": "code",
   "execution_count": null,
   "metadata": {
    "collapsed": true
   },
   "outputs": [],
   "source": [
    "b = np.array([2,4])\n",
    "a = np.array([4,2])\n",
    "plot_function(a,b)"
   ]
  }
 ],
 "metadata": {
  "kernelspec": {
   "display_name": "Python 2",
   "language": "python",
   "name": "python2"
  },
  "language_info": {
   "codemirror_mode": {
    "name": "ipython",
    "version": 2
   },
   "file_extension": ".py",
   "mimetype": "text/x-python",
   "name": "python",
   "nbconvert_exporter": "python",
   "pygments_lexer": "ipython2",
   "version": "2.7.8"
  }
 },
 "nbformat": 4,
 "nbformat_minor": 1
}
